{
 "cells": [
  {
   "cell_type": "code",
   "execution_count": 1,
   "metadata": {},
   "outputs": [],
   "source": [
    "import spacy\n",
    "spacy.load('en')\n",
    "from spacy.lang.en import English\n",
    "parser = English()\n",
    "def tokenize(text):\n",
    "    lda_tokens = []\n",
    "    tokens = parser(text)\n",
    "    for token in tokens:\n",
    "        if token.orth_.isspace():\n",
    "            continue\n",
    "        elif token.like_url:\n",
    "            lda_tokens.append('URL')\n",
    "        elif token.orth_.startswith('@'):\n",
    "            lda_tokens.append('SCREEN_NAME')\n",
    "        else:\n",
    "            lda_tokens.append(token.lower_)\n",
    "    return lda_tokens\n"
   ]
  },
  {
   "cell_type": "code",
   "execution_count": 3,
   "metadata": {},
   "outputs": [
    {
     "name": "stderr",
     "output_type": "stream",
     "text": [
      "[nltk_data] Downloading package wordnet to /Users/nando/nltk_data...\n",
      "[nltk_data]   Package wordnet is already up-to-date!\n"
     ]
    }
   ],
   "source": [
    "import nltk\n",
    "nltk.download('wordnet')\n",
    "from nltk.corpus import wordnet as wn\n",
    "def get_lemma(word):\n",
    "    lemma = wn.morphy(word)\n",
    "    if lemma is None:\n",
    "        return word\n",
    "    else:\n",
    "        return lemma\n",
    "    \n",
    "from nltk.stem.wordnet import WordNetLemmatizer\n",
    "def get_lemma2(word):\n",
    "    return WordNetLemmatizer().lemmatize(word)"
   ]
  },
  {
   "cell_type": "code",
   "execution_count": 4,
   "metadata": {},
   "outputs": [
    {
     "name": "stderr",
     "output_type": "stream",
     "text": [
      "[nltk_data] Downloading package stopwords to /Users/nando/nltk_data...\n",
      "[nltk_data]   Package stopwords is already up-to-date!\n"
     ]
    }
   ],
   "source": [
    "nltk.download('stopwords')\n",
    "en_stop = set(nltk.corpus.stopwords.words('english'))"
   ]
  },
  {
   "cell_type": "code",
   "execution_count": 5,
   "metadata": {},
   "outputs": [],
   "source": [
    "def prepare_text_for_lda(text):\n",
    "    tokens = tokenize(text)\n",
    "    tokens = [token for token in tokens if len(token) > 4]\n",
    "    tokens = [token for token in tokens if token not in en_stop]\n",
    "    tokens = [get_lemma(token) for token in tokens]\n",
    "    return tokens"
   ]
  },
  {
   "cell_type": "code",
   "execution_count": 9,
   "metadata": {},
   "outputs": [
    {
     "name": "stdout",
     "output_type": "stream",
     "text": [
      "['analysis', 'price', 'competition', 'slot', 'resource', 'allocation']\n",
      "['reconfigurable', 'array', 'concurrent', 'support', 'multiple', 'radio', 'standard', 'flexible', 'mapping']\n",
      "['highly', 'programmable', 'infrastructure', 'prototyping', 'developing', 'deploy', 'genomics', 'centric', 'application']\n",
      "['converter', 'fix', 'switching', 'frequency', 'adaptive', 'multi', 'control', 'scheme']\n",
      "['acquisition', 'large', 'scale', 'surface', 'light', 'fields']\n",
      "['smooth', 'polyhedron', 'using', 'implicit', 'algebraic', 'spline']\n",
      "['truthful', 'incentive', 'mechanism', 'anonymity', 'location', 'privacy']\n",
      "['dynamic', 'partial', 'reconfigurable', 'pruning', 'base', 'cognitive', 'radio']\n",
      "['protdb', 'probabilistic']\n",
      "['silicon', 'sapphire', 'voltage', 'temperature', 'sensor', 'energy', 'scavenger']\n",
      "['wysiwyg', 'drawing', 'stroke', 'directly', 'model']\n",
      "['complexity', 'reduction', 'polyphase', 'linear', 'phase', 'filter', 'symmetric', 'coefficient', 'implementation']\n",
      "['streaming', 'code', 'channels', 'burst', 'isolate', 'erasure']\n",
      "['novel', 'algorithm', 'speech', 'audio', 'coding']\n",
      "['information', 'integration', 'unreliable', 'uncertain', 'environment']\n",
      "['advance', 'colluder', 'detection', 'technique', 'osift', 'base', 'hiding', 'code']\n",
      "['orient', 'query', 'robot', 'natural', 'language', 'query', 'system']\n",
      "['system', 'analysis', 'energy', 'model', 'radio', 'trigger', 'battery', 'monolithic', 'wireless', 'sensor', 'receiver']\n",
      "['using', 'proportional', 'transportation', 'similarity', 'learn', 'element', 'semantics', 'document', 'clustering']\n",
      "['miner', 'efficient', 'association', 'rule', 'mining']\n",
      "['distortion', 'fourth', 'order', 'bandpass', 'delta', 'sigma', 'modulator']\n",
      "['understanding', 'spatial', 'behavior', 'location', 'base', 'recommendation']\n",
      "['wimax', 'sigma', 'delta', 'modulator', 'constant', 'active', 'inductor']\n",
      "['multimode', 'digital', 'controller', 'power', 'management']\n",
      "['optimize', 'nest', 'query', 'parameter', 'order']\n",
      "['explore', 'trade', 'label', 'stack', 'depth', 'route']\n",
      "['cross', 'layer', 'survivability', 'base', 'network']\n",
      "['power', 'translation', 'lookaside', 'buffer', 'using', 'hierarchical', 'match', 'line']\n",
      "['structural', 'analysis', 'emerge', 'event']\n"
     ]
    }
   ],
   "source": [
    "import random\n",
    "text_data = []\n",
    "with open('./data/dataset.csv') as f:\n",
    "    for line in f:\n",
    "        tokens = prepare_text_for_lda(line)\n",
    "        if random.random() > .99:\n",
    "            print(tokens)\n",
    "            text_data.append(tokens)"
   ]
  },
  {
   "cell_type": "code",
   "execution_count": 16,
   "metadata": {},
   "outputs": [],
   "source": [
    "from gensim import corpora\n",
    "dictionary = corpora.Dictionary(text_data)\n",
    "corpus = [dictionary.doc2bow(text) for text in text_data]\n",
    "import pickle\n",
    "pickle.dump(corpus, open('corpus.pkl', 'wb'))\n",
    "dictionary.save('dictionary.gensim')"
   ]
  },
  {
   "cell_type": "code",
   "execution_count": null,
   "metadata": {},
   "outputs": [],
   "source": []
  }
 ],
 "metadata": {
  "kernelspec": {
   "display_name": "Python 3",
   "language": "python",
   "name": "python3"
  },
  "language_info": {
   "codemirror_mode": {
    "name": "ipython",
    "version": 3
   },
   "file_extension": ".py",
   "mimetype": "text/x-python",
   "name": "python",
   "nbconvert_exporter": "python",
   "pygments_lexer": "ipython3",
   "version": "3.7.6"
  }
 },
 "nbformat": 4,
 "nbformat_minor": 4
}
